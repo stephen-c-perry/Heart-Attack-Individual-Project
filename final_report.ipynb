{
 "cells": [
  {
   "attachments": {},
   "cell_type": "markdown",
   "metadata": {},
   "source": [
    "<div class = \"alert alert-block block alert-info\">\n",
    "    <b> Prevent the Stent  </b>\n",
    "</div>"
   ]
  },
  {
   "cell_type": "code",
   "execution_count": 5,
   "metadata": {},
   "outputs": [],
   "source": [
    "#imports\n",
    "import pandas as pd\n",
    "import numpy as np\n",
    "import acquire as a\n",
    "import prepare as p\n",
    "import explore as e\n",
    "import model_functions as m \n"
   ]
  },
  {
   "attachments": {},
   "cell_type": "markdown",
   "metadata": {},
   "source": [
    "<div class = \"alert alert-block block alert-info\">\n",
    "    <b> Acquire  </b>\n",
    "</div>"
   ]
  },
  {
   "cell_type": "code",
   "execution_count": 6,
   "metadata": {},
   "outputs": [],
   "source": [
    "df = a.get_heart()"
   ]
  },
  {
   "attachments": {},
   "cell_type": "markdown",
   "metadata": {},
   "source": [
    "<div class = \"alert alert-block block alert-info\">\n",
    "    <b> Prepare  </b>\n",
    "</div>"
   ]
  },
  {
   "attachments": {},
   "cell_type": "markdown",
   "metadata": {},
   "source": [
    "Dropped rows with nulls (only 2 rows)"
   ]
  },
  {
   "cell_type": "code",
   "execution_count": 7,
   "metadata": {},
   "outputs": [],
   "source": [
    "#renaming columns to make them more readable\n",
    "df = p.rename_cols(df)\n",
    "# replacing integer values with their corresponding strings for discrete variables\n",
    "df = p.replace_cat_values(df)\n",
    "# split to train, validate and test\n",
    "train, val, test = p.split_data(df, 'high_risk_of_mi')"
   ]
  },
  {
   "attachments": {},
   "cell_type": "markdown",
   "metadata": {},
   "source": [
    "<div class = \"alert alert-block block alert-info\">\n",
    "    <b> Explore </b>\n",
    "</div>"
   ]
  },
  {
   "cell_type": "code",
   "execution_count": 8,
   "metadata": {},
   "outputs": [],
   "source": [
    "#explore on train data only"
   ]
  },
  {
   "attachments": {},
   "cell_type": "markdown",
   "metadata": {},
   "source": [
    "<div class = \"alert alert-block block alert-info\">\n",
    "    <b> Exploration Summary  </b>\n",
    "</div>"
   ]
  },
  {
   "attachments": {},
   "cell_type": "markdown",
   "metadata": {},
   "source": [
    "<div class = \"alert alert-block block alert-info\">\n",
    "    <b> Modeling  </b>\n",
    "</div>"
   ]
  },
  {
   "cell_type": "code",
   "execution_count": 9,
   "metadata": {},
   "outputs": [],
   "source": [
    "df = m.df_classification_ready(df, 'sex_female')\n"
   ]
  },
  {
   "cell_type": "code",
   "execution_count": 10,
   "metadata": {},
   "outputs": [
    {
     "name": "stdout",
     "output_type": "stream",
     "text": [
      "<class 'pandas.core.frame.DataFrame'>\n",
      "Int64Index: 301 entries, 0 to 302\n",
      "Data columns (total 23 columns):\n",
      " #   Column                                 Non-Null Count  Dtype  \n",
      "---  ------                                 --------------  -----  \n",
      " 0   age                                    301 non-null    int64  \n",
      " 1   resting_bp                             301 non-null    int64  \n",
      " 2   cholesterol                            301 non-null    int64  \n",
      " 3   fasting_blood_sugar>120                301 non-null    int64  \n",
      " 4   max_heart_rate                         301 non-null    int64  \n",
      " 5   exercise_induced_angina                301 non-null    int64  \n",
      " 6   oldpeak                                301 non-null    float64\n",
      " 7   num_major_blood_vessels                301 non-null    int64  \n",
      " 8   high_risk_of_mi                        301 non-null    int64  \n",
      " 9   sex_male                               301 non-null    uint8  \n",
      " 10  chest_pain_type_asymptomatic           301 non-null    uint8  \n",
      " 11  chest_pain_type_atypical angina        301 non-null    uint8  \n",
      " 12  chest_pain_type_non-anginal pain       301 non-null    uint8  \n",
      " 13  chest_pain_type_typical angina         301 non-null    uint8  \n",
      " 14  rest_ecg_ST-T wave abnormal            301 non-null    uint8  \n",
      " 15  rest_ecg_left ventricular hypertrophy  301 non-null    uint8  \n",
      " 16  rest_ecg_normal                        301 non-null    uint8  \n",
      " 17  st_slope_downsloping                   301 non-null    uint8  \n",
      " 18  st_slope_flat                          301 non-null    uint8  \n",
      " 19  st_slope_unsloping                     301 non-null    uint8  \n",
      " 20  defect_type_fixed_defect               301 non-null    uint8  \n",
      " 21  defect_type_normal                     301 non-null    uint8  \n",
      " 22  defect_type_reversible                 301 non-null    uint8  \n",
      "dtypes: float64(1), int64(8), uint8(14)\n",
      "memory usage: 27.6 KB\n"
     ]
    }
   ],
   "source": [
    "df.info()"
   ]
  },
  {
   "cell_type": "code",
   "execution_count": 11,
   "metadata": {},
   "outputs": [],
   "source": [
    "#train, val, test = p.split_data(df, 'high_risk_of_mi')\n",
    "\n",
    "X_Train, y_Train, X_val, y_val, X_test, y_test = m.isolate_target(train, val, test, 'high_risk_of_mi')"
   ]
  },
  {
   "attachments": {},
   "cell_type": "markdown",
   "metadata": {},
   "source": [
    "#### Best 3 Models"
   ]
  },
  {
   "attachments": {},
   "cell_type": "markdown",
   "metadata": {},
   "source": [
    "#### Test Model"
   ]
  },
  {
   "attachments": {},
   "cell_type": "markdown",
   "metadata": {},
   "source": [
    "<div class = \"alert alert-block block alert-info\">\n",
    "    <b> Modeling Wrap </b>\n",
    "</div>"
   ]
  },
  {
   "attachments": {},
   "cell_type": "markdown",
   "metadata": {},
   "source": [
    "<div class = \"alert alert-block block alert-info\">\n",
    "    <b> Conclusion  </b>\n",
    "</div>"
   ]
  },
  {
   "attachments": {},
   "cell_type": "markdown",
   "metadata": {},
   "source": [
    "<div class = \"alert alert-block block alert-info\">\n",
    "    <b> Recommendations  </b>\n",
    "</div>"
   ]
  },
  {
   "attachments": {},
   "cell_type": "markdown",
   "metadata": {},
   "source": [
    "<div class = \"alert alert-block block alert-info\">\n",
    "    <b> Next Steps  </b>\n",
    "</div>"
   ]
  }
 ],
 "metadata": {
  "kernelspec": {
   "display_name": "Python 3",
   "language": "python",
   "name": "python3"
  },
  "language_info": {
   "codemirror_mode": {
    "name": "ipython",
    "version": 3
   },
   "file_extension": ".py",
   "mimetype": "text/x-python",
   "name": "python",
   "nbconvert_exporter": "python",
   "pygments_lexer": "ipython3",
   "version": "3.9.6"
  },
  "orig_nbformat": 4,
  "vscode": {
   "interpreter": {
    "hash": "31f2aee4e71d21fbe5cf8b01ff0e069b9275f58929596ceb00d14d90e3e16cd6"
   }
  }
 },
 "nbformat": 4,
 "nbformat_minor": 2
}
