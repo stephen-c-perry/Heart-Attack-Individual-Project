{
 "cells": [
  {
   "attachments": {},
   "cell_type": "markdown",
   "metadata": {},
   "source": [
    "<div class = \"alert alert-block block alert-info\">\n",
    "    <b> Prevent the Stent  </b>\n",
    "</div>"
   ]
  },
  {
   "cell_type": "code",
   "execution_count": 1,
   "metadata": {},
   "outputs": [],
   "source": [
    "#imports\n",
    "import pandas as pd\n",
    "import numpy as np\n",
    "import acquire as a\n",
    "import prepare as p\n",
    "import explore as e\n",
    "import model_functions as m \n",
    "\n",
    "import warnings\n",
    "warnings.filterwarnings('ignore')\n"
   ]
  },
  {
   "attachments": {},
   "cell_type": "markdown",
   "metadata": {},
   "source": [
    "<div class = \"alert alert-block block alert-info\">\n",
    "    <b> Acquire  </b>\n",
    "</div>"
   ]
  },
  {
   "cell_type": "markdown",
   "metadata": {},
   "source": []
  },
  {
   "cell_type": "code",
   "execution_count": 2,
   "metadata": {},
   "outputs": [],
   "source": [
    "df = a.get_heart()"
   ]
  },
  {
   "attachments": {},
   "cell_type": "markdown",
   "metadata": {},
   "source": [
    "<div class = \"alert alert-block block alert-info\">\n",
    "    <b> Prepare  </b>\n",
    "</div>"
   ]
  },
  {
   "attachments": {},
   "cell_type": "markdown",
   "metadata": {},
   "source": [
    "Dropped rows with nulls (only 2 rows)"
   ]
  },
  {
   "cell_type": "code",
   "execution_count": 3,
   "metadata": {},
   "outputs": [],
   "source": [
    "#renaming columns to make them more readable\n",
    "df = p.rename_cols(df)\n",
    "# replacing integer values with their corresponding strings for discrete variables\n",
    "df = p.replace_cat_values(df)\n",
    "# split to train, validate and test\n",
    "train, val, test = p.split_data(df, 'high_risk_of_mi')"
   ]
  },
  {
   "attachments": {},
   "cell_type": "markdown",
   "metadata": {},
   "source": [
    "<div class = \"alert alert-block block alert-info\">\n",
    "    <b> Explore </b>\n",
    "</div>"
   ]
  },
  {
   "cell_type": "code",
   "execution_count": 4,
   "metadata": {},
   "outputs": [],
   "source": [
    "#explore on train data only"
   ]
  },
  {
   "attachments": {},
   "cell_type": "markdown",
   "metadata": {},
   "source": [
    "<div class = \"alert alert-block block alert-info\">\n",
    "    <b> Exploration Summary  </b>\n",
    "</div>"
   ]
  },
  {
   "attachments": {},
   "cell_type": "markdown",
   "metadata": {},
   "source": [
    "<div class = \"alert alert-block block alert-info\">\n",
    "    <b> Modeling  </b>\n",
    "</div>"
   ]
  },
  {
   "cell_type": "code",
   "execution_count": 5,
   "metadata": {},
   "outputs": [],
   "source": [
    "df = m.df_classification_ready(df, 'sex_female')\n",
    "train, val, test = p.split_data(df, 'high_risk_of_mi')\n"
   ]
  },
  {
   "cell_type": "code",
   "execution_count": 6,
   "metadata": {},
   "outputs": [],
   "source": [
    "X_Train, y_Train, X_val, y_val, X_test, y_test = m.isolate_target(train, val, test, 'high_risk_of_mi')"
   ]
  },
  {
   "cell_type": "code",
   "execution_count": 7,
   "metadata": {},
   "outputs": [
    {
     "data": {
      "text/html": [
       "<div>\n",
       "<style scoped>\n",
       "    .dataframe tbody tr th:only-of-type {\n",
       "        vertical-align: middle;\n",
       "    }\n",
       "\n",
       "    .dataframe tbody tr th {\n",
       "        vertical-align: top;\n",
       "    }\n",
       "\n",
       "    .dataframe thead th {\n",
       "        text-align: right;\n",
       "    }\n",
       "</style>\n",
       "<table border=\"1\" class=\"dataframe\">\n",
       "  <thead>\n",
       "    <tr style=\"text-align: right;\">\n",
       "      <th></th>\n",
       "      <th>min_samples_per_leaf</th>\n",
       "      <th>max_depth</th>\n",
       "      <th>train_recall</th>\n",
       "      <th>validate_recall</th>\n",
       "      <th>difference</th>\n",
       "    </tr>\n",
       "  </thead>\n",
       "  <tbody>\n",
       "    <tr>\n",
       "      <th>0</th>\n",
       "      <td>1</td>\n",
       "      <td>2</td>\n",
       "      <td>0.788991</td>\n",
       "      <td>0.857143</td>\n",
       "      <td>-0.068152</td>\n",
       "    </tr>\n",
       "    <tr>\n",
       "      <th>16</th>\n",
       "      <td>3</td>\n",
       "      <td>2</td>\n",
       "      <td>0.788991</td>\n",
       "      <td>0.857143</td>\n",
       "      <td>-0.068152</td>\n",
       "    </tr>\n",
       "    <tr>\n",
       "      <th>32</th>\n",
       "      <td>5</td>\n",
       "      <td>2</td>\n",
       "      <td>0.788991</td>\n",
       "      <td>0.857143</td>\n",
       "      <td>-0.068152</td>\n",
       "    </tr>\n",
       "    <tr>\n",
       "      <th>40</th>\n",
       "      <td>6</td>\n",
       "      <td>2</td>\n",
       "      <td>0.788991</td>\n",
       "      <td>0.857143</td>\n",
       "      <td>-0.068152</td>\n",
       "    </tr>\n",
       "    <tr>\n",
       "      <th>7</th>\n",
       "      <td>1</td>\n",
       "      <td>9</td>\n",
       "      <td>1.000000</td>\n",
       "      <td>0.857143</td>\n",
       "      <td>0.142857</td>\n",
       "    </tr>\n",
       "    <tr>\n",
       "      <th>8</th>\n",
       "      <td>2</td>\n",
       "      <td>2</td>\n",
       "      <td>0.788991</td>\n",
       "      <td>0.857143</td>\n",
       "      <td>-0.068152</td>\n",
       "    </tr>\n",
       "    <tr>\n",
       "      <th>24</th>\n",
       "      <td>4</td>\n",
       "      <td>2</td>\n",
       "      <td>0.788991</td>\n",
       "      <td>0.857143</td>\n",
       "      <td>-0.068152</td>\n",
       "    </tr>\n",
       "    <tr>\n",
       "      <th>1</th>\n",
       "      <td>1</td>\n",
       "      <td>3</td>\n",
       "      <td>0.954128</td>\n",
       "      <td>0.821429</td>\n",
       "      <td>0.132700</td>\n",
       "    </tr>\n",
       "    <tr>\n",
       "      <th>26</th>\n",
       "      <td>4</td>\n",
       "      <td>4</td>\n",
       "      <td>0.935780</td>\n",
       "      <td>0.821429</td>\n",
       "      <td>0.114351</td>\n",
       "    </tr>\n",
       "    <tr>\n",
       "      <th>25</th>\n",
       "      <td>4</td>\n",
       "      <td>3</td>\n",
       "      <td>0.935780</td>\n",
       "      <td>0.821429</td>\n",
       "      <td>0.114351</td>\n",
       "    </tr>\n",
       "  </tbody>\n",
       "</table>\n",
       "</div>"
      ],
      "text/plain": [
       "    min_samples_per_leaf  max_depth  train_recall  validate_recall  difference\n",
       "0                      1          2      0.788991         0.857143   -0.068152\n",
       "16                     3          2      0.788991         0.857143   -0.068152\n",
       "32                     5          2      0.788991         0.857143   -0.068152\n",
       "40                     6          2      0.788991         0.857143   -0.068152\n",
       "7                      1          9      1.000000         0.857143    0.142857\n",
       "8                      2          2      0.788991         0.857143   -0.068152\n",
       "24                     4          2      0.788991         0.857143   -0.068152\n",
       "1                      1          3      0.954128         0.821429    0.132700\n",
       "26                     4          4      0.935780         0.821429    0.114351\n",
       "25                     4          3      0.935780         0.821429    0.114351"
      ]
     },
     "execution_count": 7,
     "metadata": {},
     "output_type": "execute_result"
    }
   ],
   "source": [
    "#decision tree\n",
    "m.get_decision_tree_multiple(X_Train, y_Train, X_val, y_val)"
   ]
  },
  {
   "cell_type": "code",
   "execution_count": 8,
   "metadata": {},
   "outputs": [
    {
     "data": {
      "text/html": [
       "<div>\n",
       "<style scoped>\n",
       "    .dataframe tbody tr th:only-of-type {\n",
       "        vertical-align: middle;\n",
       "    }\n",
       "\n",
       "    .dataframe tbody tr th {\n",
       "        vertical-align: top;\n",
       "    }\n",
       "\n",
       "    .dataframe thead th {\n",
       "        text-align: right;\n",
       "    }\n",
       "</style>\n",
       "<table border=\"1\" class=\"dataframe\">\n",
       "  <thead>\n",
       "    <tr style=\"text-align: right;\">\n",
       "      <th></th>\n",
       "      <th>min_samples_per_leaf</th>\n",
       "      <th>max_depth</th>\n",
       "      <th>train_recall</th>\n",
       "      <th>validate_recall</th>\n",
       "      <th>difference</th>\n",
       "    </tr>\n",
       "  </thead>\n",
       "  <tbody>\n",
       "    <tr>\n",
       "      <th>36</th>\n",
       "      <td>5</td>\n",
       "      <td>6</td>\n",
       "      <td>0.917431</td>\n",
       "      <td>0.928571</td>\n",
       "      <td>-0.011140</td>\n",
       "    </tr>\n",
       "    <tr>\n",
       "      <th>53</th>\n",
       "      <td>7</td>\n",
       "      <td>7</td>\n",
       "      <td>0.880734</td>\n",
       "      <td>0.928571</td>\n",
       "      <td>-0.047837</td>\n",
       "    </tr>\n",
       "    <tr>\n",
       "      <th>1</th>\n",
       "      <td>1</td>\n",
       "      <td>3</td>\n",
       "      <td>0.899083</td>\n",
       "      <td>0.928571</td>\n",
       "      <td>-0.029489</td>\n",
       "    </tr>\n",
       "    <tr>\n",
       "      <th>37</th>\n",
       "      <td>5</td>\n",
       "      <td>7</td>\n",
       "      <td>0.935780</td>\n",
       "      <td>0.928571</td>\n",
       "      <td>0.007208</td>\n",
       "    </tr>\n",
       "    <tr>\n",
       "      <th>38</th>\n",
       "      <td>5</td>\n",
       "      <td>8</td>\n",
       "      <td>0.944954</td>\n",
       "      <td>0.928571</td>\n",
       "      <td>0.016383</td>\n",
       "    </tr>\n",
       "    <tr>\n",
       "      <th>39</th>\n",
       "      <td>5</td>\n",
       "      <td>9</td>\n",
       "      <td>0.944954</td>\n",
       "      <td>0.928571</td>\n",
       "      <td>0.016383</td>\n",
       "    </tr>\n",
       "    <tr>\n",
       "      <th>41</th>\n",
       "      <td>6</td>\n",
       "      <td>3</td>\n",
       "      <td>0.889908</td>\n",
       "      <td>0.928571</td>\n",
       "      <td>-0.038663</td>\n",
       "    </tr>\n",
       "    <tr>\n",
       "      <th>43</th>\n",
       "      <td>6</td>\n",
       "      <td>5</td>\n",
       "      <td>0.889908</td>\n",
       "      <td>0.928571</td>\n",
       "      <td>-0.038663</td>\n",
       "    </tr>\n",
       "    <tr>\n",
       "      <th>44</th>\n",
       "      <td>6</td>\n",
       "      <td>6</td>\n",
       "      <td>0.889908</td>\n",
       "      <td>0.928571</td>\n",
       "      <td>-0.038663</td>\n",
       "    </tr>\n",
       "    <tr>\n",
       "      <th>45</th>\n",
       "      <td>6</td>\n",
       "      <td>7</td>\n",
       "      <td>0.889908</td>\n",
       "      <td>0.928571</td>\n",
       "      <td>-0.038663</td>\n",
       "    </tr>\n",
       "  </tbody>\n",
       "</table>\n",
       "</div>"
      ],
      "text/plain": [
       "    min_samples_per_leaf  max_depth  train_recall  validate_recall  difference\n",
       "36                     5          6      0.917431         0.928571   -0.011140\n",
       "53                     7          7      0.880734         0.928571   -0.047837\n",
       "1                      1          3      0.899083         0.928571   -0.029489\n",
       "37                     5          7      0.935780         0.928571    0.007208\n",
       "38                     5          8      0.944954         0.928571    0.016383\n",
       "39                     5          9      0.944954         0.928571    0.016383\n",
       "41                     6          3      0.889908         0.928571   -0.038663\n",
       "43                     6          5      0.889908         0.928571   -0.038663\n",
       "44                     6          6      0.889908         0.928571   -0.038663\n",
       "45                     6          7      0.889908         0.928571   -0.038663"
      ]
     },
     "execution_count": 8,
     "metadata": {},
     "output_type": "execute_result"
    }
   ],
   "source": [
    "#random forest\n",
    "m.get_random_forest_multiple(X_Train, y_Train, X_val, y_val)"
   ]
  },
  {
   "attachments": {},
   "cell_type": "markdown",
   "metadata": {},
   "source": [
    "Random Forest with 5 minimum samples per leaf and 7 max depth had the best overall performance."
   ]
  },
  {
   "cell_type": "code",
   "execution_count": 9,
   "metadata": {},
   "outputs": [
    {
     "data": {
      "text/html": [
       "<div>\n",
       "<style scoped>\n",
       "    .dataframe tbody tr th:only-of-type {\n",
       "        vertical-align: middle;\n",
       "    }\n",
       "\n",
       "    .dataframe tbody tr th {\n",
       "        vertical-align: top;\n",
       "    }\n",
       "\n",
       "    .dataframe thead th {\n",
       "        text-align: right;\n",
       "    }\n",
       "</style>\n",
       "<table border=\"1\" class=\"dataframe\">\n",
       "  <thead>\n",
       "    <tr style=\"text-align: right;\">\n",
       "      <th></th>\n",
       "      <th>min_samples_per_leaf</th>\n",
       "      <th>max_depth</th>\n",
       "      <th>train_recall</th>\n",
       "      <th>validate_recall</th>\n",
       "      <th>difference</th>\n",
       "    </tr>\n",
       "  </thead>\n",
       "  <tbody>\n",
       "    <tr>\n",
       "      <th>21</th>\n",
       "      <td>3</td>\n",
       "      <td>7</td>\n",
       "      <td>0.825688</td>\n",
       "      <td>0.785714</td>\n",
       "      <td>0.039974</td>\n",
       "    </tr>\n",
       "    <tr>\n",
       "      <th>13</th>\n",
       "      <td>2</td>\n",
       "      <td>7</td>\n",
       "      <td>0.825688</td>\n",
       "      <td>0.785714</td>\n",
       "      <td>0.039974</td>\n",
       "    </tr>\n",
       "    <tr>\n",
       "      <th>53</th>\n",
       "      <td>7</td>\n",
       "      <td>7</td>\n",
       "      <td>0.825688</td>\n",
       "      <td>0.785714</td>\n",
       "      <td>0.039974</td>\n",
       "    </tr>\n",
       "    <tr>\n",
       "      <th>19</th>\n",
       "      <td>3</td>\n",
       "      <td>5</td>\n",
       "      <td>0.853211</td>\n",
       "      <td>0.785714</td>\n",
       "      <td>0.067497</td>\n",
       "    </tr>\n",
       "    <tr>\n",
       "      <th>59</th>\n",
       "      <td>8</td>\n",
       "      <td>5</td>\n",
       "      <td>0.853211</td>\n",
       "      <td>0.785714</td>\n",
       "      <td>0.067497</td>\n",
       "    </tr>\n",
       "    <tr>\n",
       "      <th>27</th>\n",
       "      <td>4</td>\n",
       "      <td>5</td>\n",
       "      <td>0.853211</td>\n",
       "      <td>0.785714</td>\n",
       "      <td>0.067497</td>\n",
       "    </tr>\n",
       "    <tr>\n",
       "      <th>29</th>\n",
       "      <td>4</td>\n",
       "      <td>7</td>\n",
       "      <td>0.825688</td>\n",
       "      <td>0.785714</td>\n",
       "      <td>0.039974</td>\n",
       "    </tr>\n",
       "    <tr>\n",
       "      <th>61</th>\n",
       "      <td>8</td>\n",
       "      <td>7</td>\n",
       "      <td>0.825688</td>\n",
       "      <td>0.785714</td>\n",
       "      <td>0.039974</td>\n",
       "    </tr>\n",
       "    <tr>\n",
       "      <th>51</th>\n",
       "      <td>7</td>\n",
       "      <td>5</td>\n",
       "      <td>0.853211</td>\n",
       "      <td>0.785714</td>\n",
       "      <td>0.067497</td>\n",
       "    </tr>\n",
       "    <tr>\n",
       "      <th>11</th>\n",
       "      <td>2</td>\n",
       "      <td>5</td>\n",
       "      <td>0.853211</td>\n",
       "      <td>0.785714</td>\n",
       "      <td>0.067497</td>\n",
       "    </tr>\n",
       "  </tbody>\n",
       "</table>\n",
       "</div>"
      ],
      "text/plain": [
       "    min_samples_per_leaf  max_depth  train_recall  validate_recall  difference\n",
       "21                     3          7      0.825688         0.785714    0.039974\n",
       "13                     2          7      0.825688         0.785714    0.039974\n",
       "53                     7          7      0.825688         0.785714    0.039974\n",
       "19                     3          5      0.853211         0.785714    0.067497\n",
       "59                     8          5      0.853211         0.785714    0.067497\n",
       "27                     4          5      0.853211         0.785714    0.067497\n",
       "29                     4          7      0.825688         0.785714    0.039974\n",
       "61                     8          7      0.825688         0.785714    0.039974\n",
       "51                     7          5      0.853211         0.785714    0.067497\n",
       "11                     2          5      0.853211         0.785714    0.067497"
      ]
     },
     "execution_count": 9,
     "metadata": {},
     "output_type": "execute_result"
    }
   ],
   "source": [
    "#knn\n",
    "m.get_knn_multiple(X_Train, y_Train, X_val, y_val)"
   ]
  },
  {
   "attachments": {},
   "cell_type": "markdown",
   "metadata": {},
   "source": [
    "#### Best Model\n",
    "\n",
    "The best performing model overall was a random forest with minimum 5 samples per leaf and a max depth of 7.\n",
    "\n",
    "This model recall values are represented below:"
   ]
  },
  {
   "cell_type": "code",
   "execution_count": 10,
   "metadata": {},
   "outputs": [
    {
     "data": {
      "text/html": [
       "<div>\n",
       "<style scoped>\n",
       "    .dataframe tbody tr th:only-of-type {\n",
       "        vertical-align: middle;\n",
       "    }\n",
       "\n",
       "    .dataframe tbody tr th {\n",
       "        vertical-align: top;\n",
       "    }\n",
       "\n",
       "    .dataframe thead th {\n",
       "        text-align: right;\n",
       "    }\n",
       "</style>\n",
       "<table border=\"1\" class=\"dataframe\">\n",
       "  <thead>\n",
       "    <tr style=\"text-align: right;\">\n",
       "      <th></th>\n",
       "      <th>min_samples_per_leaf</th>\n",
       "      <th>max_depth</th>\n",
       "      <th>train_recall</th>\n",
       "      <th>validate_recall</th>\n",
       "      <th>difference</th>\n",
       "    </tr>\n",
       "  </thead>\n",
       "  <tbody>\n",
       "    <tr>\n",
       "      <th>37</th>\n",
       "      <td>5</td>\n",
       "      <td>7</td>\n",
       "      <td>0.93578</td>\n",
       "      <td>0.928571</td>\n",
       "      <td>0.007208</td>\n",
       "    </tr>\n",
       "  </tbody>\n",
       "</table>\n",
       "</div>"
      ],
      "text/plain": [
       "    min_samples_per_leaf  max_depth  train_recall  validate_recall  difference\n",
       "37                     5          7       0.93578         0.928571    0.007208"
      ]
     },
     "execution_count": 10,
     "metadata": {},
     "output_type": "execute_result"
    }
   ],
   "source": [
    "rf = m.get_random_forest_multiple(X_Train, y_Train, X_val, y_val)\n",
    "best_model = rf.loc[rf.index == 37]\n",
    "best_model"
   ]
  },
  {
   "attachments": {},
   "cell_type": "markdown",
   "metadata": {},
   "source": [
    "#### Test Model\n",
    "Using best model on Test set to make predictions"
   ]
  },
  {
   "cell_type": "code",
   "execution_count": 11,
   "metadata": {},
   "outputs": [
    {
     "name": "stdout",
     "output_type": "stream",
     "text": [
      "Recall value of test predicitions: 0.8889\n"
     ]
    }
   ],
   "source": [
    "test_predictions = m.test_predictions(X_test, y_test)"
   ]
  },
  {
   "attachments": {},
   "cell_type": "markdown",
   "metadata": {},
   "source": [
    "<div class = \"alert alert-block block alert-info\">\n",
    "    <b> Modeling Wrap </b>\n",
    "</div>"
   ]
  },
  {
   "cell_type": "code",
   "execution_count": null,
   "metadata": {},
   "outputs": [],
   "source": []
  },
  {
   "attachments": {},
   "cell_type": "markdown",
   "metadata": {},
   "source": [
    "<div class = \"alert alert-block block alert-info\">\n",
    "    <b> Conclusion  </b>\n",
    "</div>"
   ]
  },
  {
   "attachments": {},
   "cell_type": "markdown",
   "metadata": {},
   "source": [
    "<div class = \"alert alert-block block alert-info\">\n",
    "    <b> Recommendations  </b>\n",
    "</div>"
   ]
  },
  {
   "attachments": {},
   "cell_type": "markdown",
   "metadata": {},
   "source": [
    "<div class = \"alert alert-block block alert-info\">\n",
    "    <b> Next Steps  </b>\n",
    "</div>"
   ]
  }
 ],
 "metadata": {
  "kernelspec": {
   "display_name": "base",
   "language": "python",
   "name": "python3"
  },
  "language_info": {
   "codemirror_mode": {
    "name": "ipython",
    "version": 3
   },
   "file_extension": ".py",
   "mimetype": "text/x-python",
   "name": "python",
   "nbconvert_exporter": "python",
   "pygments_lexer": "ipython3",
   "version": "3.9.13"
  },
  "orig_nbformat": 4,
  "vscode": {
   "interpreter": {
    "hash": "38cca0c38332a56087b24af0bc80247f4fced29cb4f7f437d91dc159adec9c4e"
   }
  }
 },
 "nbformat": 4,
 "nbformat_minor": 2
}
