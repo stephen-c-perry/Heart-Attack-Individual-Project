{
 "cells": [
  {
   "cell_type": "code",
   "execution_count": 1,
   "metadata": {},
   "outputs": [],
   "source": [
    "import pandas as pd\n",
    "import numpy as np\n",
    "import acquire as a\n",
    "import prepare as p\n",
    "import model_functions as m\n",
    "\n",
    "from sklearn.tree import DecisionTreeClassifier\n",
    "from sklearn.ensemble import RandomForestClassifier\n",
    "from sklearn.neighbors import KNeighborsClassifier\n",
    "\n",
    "\n",
    "\n",
    "import warnings\n",
    "warnings.filterwarnings('ignore')\n"
   ]
  },
  {
   "attachments": {},
   "cell_type": "markdown",
   "metadata": {},
   "source": [
    "## Prep for modeling"
   ]
  },
  {
   "cell_type": "code",
   "execution_count": 2,
   "metadata": {},
   "outputs": [
    {
     "data": {
      "text/html": [
       "<div>\n",
       "<style scoped>\n",
       "    .dataframe tbody tr th:only-of-type {\n",
       "        vertical-align: middle;\n",
       "    }\n",
       "\n",
       "    .dataframe tbody tr th {\n",
       "        vertical-align: top;\n",
       "    }\n",
       "\n",
       "    .dataframe thead th {\n",
       "        text-align: right;\n",
       "    }\n",
       "</style>\n",
       "<table border=\"1\" class=\"dataframe\">\n",
       "  <thead>\n",
       "    <tr style=\"text-align: right;\">\n",
       "      <th></th>\n",
       "      <th>age</th>\n",
       "      <th>resting_bp</th>\n",
       "      <th>cholesterol</th>\n",
       "      <th>fasting_blood_sugar&gt;120</th>\n",
       "      <th>max_heart_rate</th>\n",
       "      <th>exercise_induced_angina</th>\n",
       "      <th>oldpeak</th>\n",
       "      <th>num_major_blood_vessels</th>\n",
       "      <th>high_risk_of_mi</th>\n",
       "      <th>sex_male</th>\n",
       "      <th>...</th>\n",
       "      <th>chest_pain_type_typical angina</th>\n",
       "      <th>rest_ecg_ST-T wave abnormal</th>\n",
       "      <th>rest_ecg_left ventricular hypertrophy</th>\n",
       "      <th>rest_ecg_normal</th>\n",
       "      <th>st_slope_downsloping</th>\n",
       "      <th>st_slope_flat</th>\n",
       "      <th>st_slope_unsloping</th>\n",
       "      <th>defect_type_fixed_defect</th>\n",
       "      <th>defect_type_normal</th>\n",
       "      <th>defect_type_reversible</th>\n",
       "    </tr>\n",
       "  </thead>\n",
       "  <tbody>\n",
       "    <tr>\n",
       "      <th>0</th>\n",
       "      <td>63</td>\n",
       "      <td>145</td>\n",
       "      <td>233</td>\n",
       "      <td>1</td>\n",
       "      <td>150</td>\n",
       "      <td>0</td>\n",
       "      <td>2.3</td>\n",
       "      <td>0</td>\n",
       "      <td>1</td>\n",
       "      <td>1</td>\n",
       "      <td>...</td>\n",
       "      <td>0</td>\n",
       "      <td>0</td>\n",
       "      <td>0</td>\n",
       "      <td>1</td>\n",
       "      <td>0</td>\n",
       "      <td>0</td>\n",
       "      <td>1</td>\n",
       "      <td>1</td>\n",
       "      <td>0</td>\n",
       "      <td>0</td>\n",
       "    </tr>\n",
       "    <tr>\n",
       "      <th>1</th>\n",
       "      <td>37</td>\n",
       "      <td>130</td>\n",
       "      <td>250</td>\n",
       "      <td>0</td>\n",
       "      <td>187</td>\n",
       "      <td>0</td>\n",
       "      <td>3.5</td>\n",
       "      <td>0</td>\n",
       "      <td>1</td>\n",
       "      <td>1</td>\n",
       "      <td>...</td>\n",
       "      <td>0</td>\n",
       "      <td>1</td>\n",
       "      <td>0</td>\n",
       "      <td>0</td>\n",
       "      <td>0</td>\n",
       "      <td>0</td>\n",
       "      <td>1</td>\n",
       "      <td>0</td>\n",
       "      <td>1</td>\n",
       "      <td>0</td>\n",
       "    </tr>\n",
       "    <tr>\n",
       "      <th>2</th>\n",
       "      <td>41</td>\n",
       "      <td>130</td>\n",
       "      <td>204</td>\n",
       "      <td>0</td>\n",
       "      <td>172</td>\n",
       "      <td>0</td>\n",
       "      <td>1.4</td>\n",
       "      <td>0</td>\n",
       "      <td>1</td>\n",
       "      <td>0</td>\n",
       "      <td>...</td>\n",
       "      <td>1</td>\n",
       "      <td>0</td>\n",
       "      <td>0</td>\n",
       "      <td>1</td>\n",
       "      <td>1</td>\n",
       "      <td>0</td>\n",
       "      <td>0</td>\n",
       "      <td>0</td>\n",
       "      <td>1</td>\n",
       "      <td>0</td>\n",
       "    </tr>\n",
       "    <tr>\n",
       "      <th>3</th>\n",
       "      <td>56</td>\n",
       "      <td>120</td>\n",
       "      <td>236</td>\n",
       "      <td>0</td>\n",
       "      <td>178</td>\n",
       "      <td>0</td>\n",
       "      <td>0.8</td>\n",
       "      <td>0</td>\n",
       "      <td>1</td>\n",
       "      <td>1</td>\n",
       "      <td>...</td>\n",
       "      <td>1</td>\n",
       "      <td>1</td>\n",
       "      <td>0</td>\n",
       "      <td>0</td>\n",
       "      <td>1</td>\n",
       "      <td>0</td>\n",
       "      <td>0</td>\n",
       "      <td>0</td>\n",
       "      <td>1</td>\n",
       "      <td>0</td>\n",
       "    </tr>\n",
       "    <tr>\n",
       "      <th>4</th>\n",
       "      <td>57</td>\n",
       "      <td>120</td>\n",
       "      <td>354</td>\n",
       "      <td>0</td>\n",
       "      <td>163</td>\n",
       "      <td>1</td>\n",
       "      <td>0.6</td>\n",
       "      <td>0</td>\n",
       "      <td>1</td>\n",
       "      <td>0</td>\n",
       "      <td>...</td>\n",
       "      <td>0</td>\n",
       "      <td>1</td>\n",
       "      <td>0</td>\n",
       "      <td>0</td>\n",
       "      <td>1</td>\n",
       "      <td>0</td>\n",
       "      <td>0</td>\n",
       "      <td>0</td>\n",
       "      <td>1</td>\n",
       "      <td>0</td>\n",
       "    </tr>\n",
       "  </tbody>\n",
       "</table>\n",
       "<p>5 rows × 23 columns</p>\n",
       "</div>"
      ],
      "text/plain": [
       "   age  resting_bp  cholesterol  fasting_blood_sugar>120  max_heart_rate  \\\n",
       "0   63         145          233                        1             150   \n",
       "1   37         130          250                        0             187   \n",
       "2   41         130          204                        0             172   \n",
       "3   56         120          236                        0             178   \n",
       "4   57         120          354                        0             163   \n",
       "\n",
       "   exercise_induced_angina  oldpeak  num_major_blood_vessels  high_risk_of_mi  \\\n",
       "0                        0      2.3                        0                1   \n",
       "1                        0      3.5                        0                1   \n",
       "2                        0      1.4                        0                1   \n",
       "3                        0      0.8                        0                1   \n",
       "4                        1      0.6                        0                1   \n",
       "\n",
       "   sex_male  ...  chest_pain_type_typical angina  rest_ecg_ST-T wave abnormal  \\\n",
       "0         1  ...                               0                            0   \n",
       "1         1  ...                               0                            1   \n",
       "2         0  ...                               1                            0   \n",
       "3         1  ...                               1                            1   \n",
       "4         0  ...                               0                            1   \n",
       "\n",
       "   rest_ecg_left ventricular hypertrophy  rest_ecg_normal  \\\n",
       "0                                      0                1   \n",
       "1                                      0                0   \n",
       "2                                      0                1   \n",
       "3                                      0                0   \n",
       "4                                      0                0   \n",
       "\n",
       "   st_slope_downsloping  st_slope_flat  st_slope_unsloping  \\\n",
       "0                     0              0                   1   \n",
       "1                     0              0                   1   \n",
       "2                     1              0                   0   \n",
       "3                     1              0                   0   \n",
       "4                     1              0                   0   \n",
       "\n",
       "   defect_type_fixed_defect  defect_type_normal  defect_type_reversible  \n",
       "0                         1                   0                       0  \n",
       "1                         0                   1                       0  \n",
       "2                         0                   1                       0  \n",
       "3                         0                   1                       0  \n",
       "4                         0                   1                       0  \n",
       "\n",
       "[5 rows x 23 columns]"
      ]
     },
     "execution_count": 2,
     "metadata": {},
     "output_type": "execute_result"
    }
   ],
   "source": [
    "#import data and prep for modeling\n",
    "df = a.get_heart()\n",
    "df = p.rename_cols(df)\n",
    "df = p.replace_cat_values(df)\n",
    "df = m.df_classification_ready(df, 'sex_female')\n",
    "df.head()"
   ]
  },
  {
   "cell_type": "code",
   "execution_count": 3,
   "metadata": {},
   "outputs": [],
   "source": [
    "def df_classification_ready(df, cols= None):\n",
    "    df = pd.get_dummies(df)\n",
    "    df = df.drop(columns= [cols])\n",
    "\n",
    "    return df"
   ]
  },
  {
   "cell_type": "code",
   "execution_count": 4,
   "metadata": {},
   "outputs": [],
   "source": [
    "# df_classification_ready(df, 'sex_female')"
   ]
  },
  {
   "cell_type": "code",
   "execution_count": 5,
   "metadata": {},
   "outputs": [
    {
     "data": {
      "text/plain": [
       "((201, 23), (51, 23), (49, 23))"
      ]
     },
     "execution_count": 5,
     "metadata": {},
     "output_type": "execute_result"
    }
   ],
   "source": [
    "#split into train val test\n",
    "train, val, test = p.split_data(df, 'high_risk_of_mi')\n",
    "train.shape, val.shape, test.shape"
   ]
  },
  {
   "cell_type": "code",
   "execution_count": 6,
   "metadata": {},
   "outputs": [
    {
     "data": {
      "text/plain": [
       "((201, 22), (201,), (51, 22), (51,), (49, 22), (49,))"
      ]
     },
     "execution_count": 6,
     "metadata": {},
     "output_type": "execute_result"
    }
   ],
   "source": [
    "#isolating target variable in each dataset\n",
    "X_Train, y_Train, X_val, y_val, X_test, y_test = m.isolate_target(train, val, test, 'high_risk_of_mi')\n",
    "X_Train.shape, y_Train.shape, X_val.shape, y_val.shape, X_test.shape, y_test.shape"
   ]
  },
  {
   "attachments": {},
   "cell_type": "markdown",
   "metadata": {},
   "source": [
    "Data is ready for modeling.\n",
    "\n",
    "Got dummies, dropped duplicates, split to train, val, test, isolated target variable for train, val, test"
   ]
  },
  {
   "attachments": {},
   "cell_type": "markdown",
   "metadata": {},
   "source": [
    "# Perform modeling"
   ]
  },
  {
   "attachments": {},
   "cell_type": "markdown",
   "metadata": {},
   "source": [
    "#### Decision Tree"
   ]
  },
  {
   "cell_type": "code",
   "execution_count": 7,
   "metadata": {},
   "outputs": [
    {
     "data": {
      "text/plain": [
       "1    109\n",
       "0     92\n",
       "Name: high_risk_of_mi, dtype: int64"
      ]
     },
     "execution_count": 7,
     "metadata": {},
     "output_type": "execute_result"
    }
   ],
   "source": [
    "#get mode baseline \n",
    "y_Train.value_counts()\n"
   ]
  },
  {
   "cell_type": "code",
   "execution_count": 8,
   "metadata": {},
   "outputs": [],
   "source": [
    "X_Train['baseline_prediction'] = 1\n"
   ]
  },
  {
   "cell_type": "code",
   "execution_count": 11,
   "metadata": {},
   "outputs": [
    {
     "data": {
      "text/plain": [
       "'\\ndef get_decision_tree_multiple(X_Train, y_Train, X_val, y_val):\\n    metrics = []\\n\\n    for j in range (1, 10):\\n        for i in range(2, 10):\\n            clf = DecisionTreeClassifier(max_depth=i, min_samples_leaf=j, random_state=123)\\n\\n            clf = clf.fit(X_Train, y_Train)\\n            in_sample_accuracy = clf.score(X_Train, y_Train)\\n            out_of_sample_accuracy = clf.score(X_val, y_val)\\n\\n            output = {\\n                \"min_samples_per_leaf\": j,\\n                \"max_depth\": i,\\n                \"train_accuracy\": in_sample_accuracy,\\n                \"validate_accuracy\": out_of_sample_accuracy\\n            }\\n    \\n            metrics.append(output)\\n\\n    df1 = pd.DataFrame(metrics)\\n    df1[\"difference\"] = df1.train_accuracy - df1.validate_accuracy\\n    df1_sorted = df1.sort_values(by=[\\'validate_accuracy\\'], ascending=False).head(10)\\n\\n    return df1_sorted\\n'"
      ]
     },
     "execution_count": 11,
     "metadata": {},
     "output_type": "execute_result"
    }
   ],
   "source": [
    "#function to run multiple random forest to compare for best accuracy\n",
    "#Deprecated, function changed to calculate recall and updated in model_functions.py\n",
    "'''\n",
    "def get_decision_tree_multiple(X_Train, y_Train, X_val, y_val):\n",
    "    metrics = []\n",
    "\n",
    "    for j in range (1, 10):\n",
    "        for i in range(2, 10):\n",
    "            clf = DecisionTreeClassifier(max_depth=i, min_samples_leaf=j, random_state=123)\n",
    "\n",
    "            clf = clf.fit(X_Train, y_Train)\n",
    "            in_sample_accuracy = clf.score(X_Train, y_Train)\n",
    "            out_of_sample_accuracy = clf.score(X_val, y_val)\n",
    "\n",
    "            output = {\n",
    "                \"min_samples_per_leaf\": j,\n",
    "                \"max_depth\": i,\n",
    "                \"train_accuracy\": in_sample_accuracy,\n",
    "                \"validate_accuracy\": out_of_sample_accuracy\n",
    "            }\n",
    "    \n",
    "            metrics.append(output)\n",
    "\n",
    "    df1 = pd.DataFrame(metrics)\n",
    "    df1[\"difference\"] = df1.train_accuracy - df1.validate_accuracy\n",
    "    df1_sorted = df1.sort_values(by=['validate_accuracy'], ascending=False).head(10)\n",
    "\n",
    "    return df1_sorted\n",
    "'''\n"
   ]
  },
  {
   "cell_type": "markdown",
   "metadata": {},
   "source": [
    "#plot results of decision tree results\n",
    "\n",
    "x = \n",
    "y = \n",
    "hue = validate_accuracy"
   ]
  },
  {
   "cell_type": "code",
   "execution_count": null,
   "metadata": {},
   "outputs": [],
   "source": [
    "best_decision_tree = pd.DataFrame((dec_tree_results.loc[27]))\n",
    "best_decision_tree"
   ]
  },
  {
   "attachments": {},
   "cell_type": "markdown",
   "metadata": {},
   "source": [
    "#### Random Forest"
   ]
  },
  {
   "cell_type": "code",
   "execution_count": null,
   "metadata": {},
   "outputs": [],
   "source": [
    "#function to run multiple random forest to compare for best accuracy\n",
    "def get_random_forest_multiple(X_Train, y_Train, X_val, y_val):\n",
    "    metrics = []\n",
    "\n",
    "    for j in range (1, 10):\n",
    "        for i in range(2, 10):\n",
    "            rf = RandomForestClassifier(max_depth=i, min_samples_leaf=j, random_state=123)\n",
    "\n",
    "            rf = rf.fit(X_Train, y_Train)\n",
    "            in_sample_accuracy = rf.score(X_Train, y_Train)\n",
    "            out_of_sample_accuracy = rf.score(X_val, y_val)\n",
    "\n",
    "            output = {\n",
    "                \"min_samples_per_leaf\": j,\n",
    "                \"max_depth\": i,\n",
    "                \"train_accuracy\": in_sample_accuracy,\n",
    "                \"validate_accuracy\": out_of_sample_accuracy\n",
    "            }\n",
    "    \n",
    "            metrics.append(output)\n",
    "\n",
    "    df1 = pd.DataFrame(metrics)\n",
    "    df1[\"difference\"] = df1.train_accuracy - df1.validate_accuracy\n",
    "    df1_sorted = df1.sort_values(by=['validate_accuracy'], ascending=False).head(10)\n",
    "\n",
    "    return df1_sorted\n",
    "\n"
   ]
  },
  {
   "cell_type": "code",
   "execution_count": null,
   "metadata": {},
   "outputs": [],
   "source": [
    "#showing results of decision tree models\n",
    "rand_forest_results = get_random_forest_multiple(X_Train, y_Train, X_val, y_val)\n",
    "rand_forest_results"
   ]
  },
  {
   "attachments": {},
   "cell_type": "markdown",
   "metadata": {},
   "source": [
    "Best performing Random Forest Model:\n",
    "\n",
    "3 min_samples_per_leaf\n",
    "\n",
    "9 max_depth"
   ]
  },
  {
   "cell_type": "code",
   "execution_count": null,
   "metadata": {},
   "outputs": [],
   "source": [
    "best_random_forest = pd.DataFrame((rand_forest_results.loc[23]))\n",
    "best_random_forest"
   ]
  },
  {
   "attachments": {},
   "cell_type": "markdown",
   "metadata": {},
   "source": [
    "#### KNN"
   ]
  },
  {
   "cell_type": "code",
   "execution_count": null,
   "metadata": {},
   "outputs": [],
   "source": [
    "#function run multiple KNN to compare for best accuracy\n",
    "def get_knn(X_Train, y_Train, X_val, y_val):\n",
    "    metrics = []\n",
    "\n",
    "    for i in range(2, 10):\n",
    "        knn = KNeighborsClassifier(n_neighbors=i, weights='uniform')\n",
    "        knn = knn.fit(X_Train, y_Train)\n",
    "        in_sample_accuracy = knn.score(X_Train, y_Train)\n",
    "        out_of_sample_accuracy = knn.score(X_val, y_val)\n",
    "\n",
    "        output = {\n",
    "            \"neighbors\": i,\n",
    "            \"train_accuracy\": in_sample_accuracy,\n",
    "            \"validate_accuracy\": out_of_sample_accuracy\n",
    "        }\n",
    "\n",
    "        metrics.append(output)\n",
    "\n",
    "    df1 = pd.DataFrame(metrics)\n",
    "    df1[\"difference\"] = df1.train_accuracy - df1.validate_accuracy\n",
    "    df1_sorted = df1.sort_values(by=['validate_accuracy'], ascending=False).head(10)\n",
    "\n",
    "    return df1_sorted\n",
    "\n"
   ]
  },
  {
   "cell_type": "code",
   "execution_count": null,
   "metadata": {},
   "outputs": [],
   "source": [
    "knn_results = get_knn(X_Train, y_Train, X_val, y_val)\n",
    "knn_results"
   ]
  },
  {
   "attachments": {},
   "cell_type": "markdown",
   "metadata": {},
   "source": [
    "Best performing KNN Model:\n",
    "\n",
    "5 neighbors"
   ]
  },
  {
   "cell_type": "code",
   "execution_count": null,
   "metadata": {},
   "outputs": [],
   "source": [
    "best_knn= pd.DataFrame((knn_results.loc[3]))\n",
    "best_knn"
   ]
  },
  {
   "attachments": {},
   "cell_type": "markdown",
   "metadata": {},
   "source": [
    "# Modeling Summary\n",
    "\n",
    "Best performing model overall model was Random Forest with Training and Validate accuracy both at 94%."
   ]
  },
  {
   "cell_type": "markdown",
   "metadata": {},
   "source": []
  },
  {
   "cell_type": "code",
   "execution_count": null,
   "metadata": {},
   "outputs": [],
   "source": []
  },
  {
   "cell_type": "markdown",
   "metadata": {},
   "source": []
  }
 ],
 "metadata": {
  "kernelspec": {
   "display_name": "base",
   "language": "python",
   "name": "python3"
  },
  "language_info": {
   "codemirror_mode": {
    "name": "ipython",
    "version": 3
   },
   "file_extension": ".py",
   "mimetype": "text/x-python",
   "name": "python",
   "nbconvert_exporter": "python",
   "pygments_lexer": "ipython3",
   "version": "3.9.13"
  },
  "orig_nbformat": 4,
  "vscode": {
   "interpreter": {
    "hash": "38cca0c38332a56087b24af0bc80247f4fced29cb4f7f437d91dc159adec9c4e"
   }
  }
 },
 "nbformat": 4,
 "nbformat_minor": 2
}
